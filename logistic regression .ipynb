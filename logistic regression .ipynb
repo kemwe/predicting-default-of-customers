{
 "cells": [
  {
   "cell_type": "markdown",
   "metadata": {},
   "source": [
    " ## 1.Import the necessary libraries"
   ]
  },
  {
   "cell_type": "code",
   "execution_count": 1,
   "metadata": {},
   "outputs": [],
   "source": [
    "import numpy as np\n",
    "import pandas as pd\n",
    "import warnings\n",
    "warnings.filterwarnings(\"ignore\")\n",
    "\n",
    "#importing vizualization libraries\n",
    "\n",
    "import seaborn as sns\n",
    "import matplotlib.pyplot as plt\n",
    "%matplotlib inline\n",
    "sns.set_style(\"whitegrid\")"
   ]
  },
  {
   "cell_type": "markdown",
   "metadata": {},
   "source": [
    "## Import the dataset "
   ]
  },
  {
   "cell_type": "markdown",
   "metadata": {},
   "source": [
    "The Home Equity dataset (HMEQ) contains baseline and loan performance information for 5,960 recent home equity loans. The target (BAD) is a binary variable indicating whether an applicant eventually defaulted or was seriously delinquent. This adverse outcome occurred in 1,189 cases (20%). For each applicant, 12 input variables were recorded.\n",
    "\n",
    "\n",
    "BAD=1=client defaulted on loan 0 = loan repaid\n",
    "LOAN=Amount of the loan request\n",
    "MORTDUE=Amount due on existing mortgage\n",
    "VALUE=Value of current property\n",
    "REASON=DebtCon  debt consolidation HomeImp = home improvement\n",
    "JOB=Six occupational categories\n",
    "YOJ=Years at present job\n",
    "DEROG=Number of major derogatory reports\n",
    "DELINQ=Number of delinquent credit lines\n",
    "CLAGE=Age of oldest trade line in months\n",
    "NINQ=Number of recent credit lines\n",
    "CLNO=Number of credit lines\n",
    "DEBTINC=Debt-to-income ratio\n"
   ]
  },
  {
   "cell_type": "code",
   "execution_count": 2,
   "metadata": {},
   "outputs": [
    {
     "data": {
      "text/html": [
       "<div>\n",
       "<style scoped>\n",
       "    .dataframe tbody tr th:only-of-type {\n",
       "        vertical-align: middle;\n",
       "    }\n",
       "\n",
       "    .dataframe tbody tr th {\n",
       "        vertical-align: top;\n",
       "    }\n",
       "\n",
       "    .dataframe thead th {\n",
       "        text-align: right;\n",
       "    }\n",
       "</style>\n",
       "<table border=\"1\" class=\"dataframe\">\n",
       "  <thead>\n",
       "    <tr style=\"text-align: right;\">\n",
       "      <th></th>\n",
       "      <th>BAD</th>\n",
       "      <th>LOAN</th>\n",
       "      <th>MORTDUE</th>\n",
       "      <th>VALUE</th>\n",
       "      <th>REASON</th>\n",
       "      <th>JOB</th>\n",
       "      <th>YOJ</th>\n",
       "      <th>DEROG</th>\n",
       "      <th>DELINQ</th>\n",
       "      <th>CLAGE</th>\n",
       "      <th>NINQ</th>\n",
       "      <th>CLNO</th>\n",
       "      <th>DEBTINC</th>\n",
       "    </tr>\n",
       "  </thead>\n",
       "  <tbody>\n",
       "    <tr>\n",
       "      <th>0</th>\n",
       "      <td>1</td>\n",
       "      <td>1100</td>\n",
       "      <td>25860.0</td>\n",
       "      <td>39025.0</td>\n",
       "      <td>HomeImp</td>\n",
       "      <td>Other</td>\n",
       "      <td>10.5</td>\n",
       "      <td>0.0</td>\n",
       "      <td>0.0</td>\n",
       "      <td>94.366667</td>\n",
       "      <td>1.0</td>\n",
       "      <td>9.0</td>\n",
       "      <td>NaN</td>\n",
       "    </tr>\n",
       "    <tr>\n",
       "      <th>1</th>\n",
       "      <td>1</td>\n",
       "      <td>1300</td>\n",
       "      <td>70053.0</td>\n",
       "      <td>68400.0</td>\n",
       "      <td>HomeImp</td>\n",
       "      <td>Other</td>\n",
       "      <td>7.0</td>\n",
       "      <td>0.0</td>\n",
       "      <td>2.0</td>\n",
       "      <td>121.833333</td>\n",
       "      <td>0.0</td>\n",
       "      <td>14.0</td>\n",
       "      <td>NaN</td>\n",
       "    </tr>\n",
       "    <tr>\n",
       "      <th>2</th>\n",
       "      <td>1</td>\n",
       "      <td>1500</td>\n",
       "      <td>13500.0</td>\n",
       "      <td>16700.0</td>\n",
       "      <td>HomeImp</td>\n",
       "      <td>Other</td>\n",
       "      <td>4.0</td>\n",
       "      <td>0.0</td>\n",
       "      <td>0.0</td>\n",
       "      <td>149.466667</td>\n",
       "      <td>1.0</td>\n",
       "      <td>10.0</td>\n",
       "      <td>NaN</td>\n",
       "    </tr>\n",
       "    <tr>\n",
       "      <th>3</th>\n",
       "      <td>1</td>\n",
       "      <td>1500</td>\n",
       "      <td>NaN</td>\n",
       "      <td>NaN</td>\n",
       "      <td>NaN</td>\n",
       "      <td>NaN</td>\n",
       "      <td>NaN</td>\n",
       "      <td>NaN</td>\n",
       "      <td>NaN</td>\n",
       "      <td>NaN</td>\n",
       "      <td>NaN</td>\n",
       "      <td>NaN</td>\n",
       "      <td>NaN</td>\n",
       "    </tr>\n",
       "    <tr>\n",
       "      <th>4</th>\n",
       "      <td>0</td>\n",
       "      <td>1700</td>\n",
       "      <td>97800.0</td>\n",
       "      <td>112000.0</td>\n",
       "      <td>HomeImp</td>\n",
       "      <td>Office</td>\n",
       "      <td>3.0</td>\n",
       "      <td>0.0</td>\n",
       "      <td>0.0</td>\n",
       "      <td>93.333333</td>\n",
       "      <td>0.0</td>\n",
       "      <td>14.0</td>\n",
       "      <td>NaN</td>\n",
       "    </tr>\n",
       "  </tbody>\n",
       "</table>\n",
       "</div>"
      ],
      "text/plain": [
       "   BAD  LOAN  MORTDUE     VALUE   REASON     JOB   YOJ  DEROG  DELINQ  \\\n",
       "0    1  1100  25860.0   39025.0  HomeImp   Other  10.5    0.0     0.0   \n",
       "1    1  1300  70053.0   68400.0  HomeImp   Other   7.0    0.0     2.0   \n",
       "2    1  1500  13500.0   16700.0  HomeImp   Other   4.0    0.0     0.0   \n",
       "3    1  1500      NaN       NaN      NaN     NaN   NaN    NaN     NaN   \n",
       "4    0  1700  97800.0  112000.0  HomeImp  Office   3.0    0.0     0.0   \n",
       "\n",
       "        CLAGE  NINQ  CLNO  DEBTINC  \n",
       "0   94.366667   1.0   9.0      NaN  \n",
       "1  121.833333   0.0  14.0      NaN  \n",
       "2  149.466667   1.0  10.0      NaN  \n",
       "3         NaN   NaN   NaN      NaN  \n",
       "4   93.333333   0.0  14.0      NaN  "
      ]
     },
     "execution_count": 2,
     "metadata": {},
     "output_type": "execute_result"
    }
   ],
   "source": [
    "data=pd.read_csv(\"C:/Users/user/Downloads/Compressed/hmeq.csv\")\n",
    "data.head(5)"
   ]
  },
  {
   "cell_type": "code",
   "execution_count": null,
   "metadata": {},
   "outputs": [],
   "source": []
  },
  {
   "cell_type": "markdown",
   "metadata": {},
   "source": [
    "## 2.Exploratory Data Analysis\n",
    "\n",
    "You first begin by finding information about the data set and describing(summary)\n",
    "\n"
   ]
  },
  {
   "cell_type": "code",
   "execution_count": 3,
   "metadata": {},
   "outputs": [
    {
     "data": {
      "text/plain": [
       "(5960, 13)"
      ]
     },
     "execution_count": 3,
     "metadata": {},
     "output_type": "execute_result"
    }
   ],
   "source": [
    "data.shape"
   ]
  },
  {
   "cell_type": "code",
   "execution_count": 4,
   "metadata": {},
   "outputs": [
    {
     "name": "stdout",
     "output_type": "stream",
     "text": [
      "<class 'pandas.core.frame.DataFrame'>\n",
      "RangeIndex: 5960 entries, 0 to 5959\n",
      "Data columns (total 13 columns):\n",
      "BAD        5960 non-null int64\n",
      "LOAN       5960 non-null int64\n",
      "MORTDUE    5442 non-null float64\n",
      "VALUE      5848 non-null float64\n",
      "REASON     5708 non-null object\n",
      "JOB        5681 non-null object\n",
      "YOJ        5445 non-null float64\n",
      "DEROG      5252 non-null float64\n",
      "DELINQ     5380 non-null float64\n",
      "CLAGE      5652 non-null float64\n",
      "NINQ       5450 non-null float64\n",
      "CLNO       5738 non-null float64\n",
      "DEBTINC    4693 non-null float64\n",
      "dtypes: float64(9), int64(2), object(2)\n",
      "memory usage: 605.4+ KB\n"
     ]
    }
   ],
   "source": [
    "data.info()"
   ]
  },
  {
   "cell_type": "code",
   "execution_count": 5,
   "metadata": {},
   "outputs": [],
   "source": [
    "data.rename(columns=lambda x: x.lower(),inplace=True)\n",
    "data.rename(columns={\"bad\":\"target\"},inplace=True)"
   ]
  },
  {
   "cell_type": "code",
   "execution_count": 6,
   "metadata": {},
   "outputs": [
    {
     "data": {
      "text/html": [
       "<div>\n",
       "<style scoped>\n",
       "    .dataframe tbody tr th:only-of-type {\n",
       "        vertical-align: middle;\n",
       "    }\n",
       "\n",
       "    .dataframe tbody tr th {\n",
       "        vertical-align: top;\n",
       "    }\n",
       "\n",
       "    .dataframe thead th {\n",
       "        text-align: right;\n",
       "    }\n",
       "</style>\n",
       "<table border=\"1\" class=\"dataframe\">\n",
       "  <thead>\n",
       "    <tr style=\"text-align: right;\">\n",
       "      <th></th>\n",
       "      <th>target</th>\n",
       "      <th>loan</th>\n",
       "      <th>mortdue</th>\n",
       "      <th>value</th>\n",
       "      <th>reason</th>\n",
       "      <th>job</th>\n",
       "      <th>yoj</th>\n",
       "      <th>derog</th>\n",
       "      <th>delinq</th>\n",
       "      <th>clage</th>\n",
       "      <th>ninq</th>\n",
       "      <th>clno</th>\n",
       "      <th>debtinc</th>\n",
       "    </tr>\n",
       "  </thead>\n",
       "  <tbody>\n",
       "    <tr>\n",
       "      <th>0</th>\n",
       "      <td>1</td>\n",
       "      <td>1100</td>\n",
       "      <td>25860.0</td>\n",
       "      <td>39025.0</td>\n",
       "      <td>HomeImp</td>\n",
       "      <td>Other</td>\n",
       "      <td>10.5</td>\n",
       "      <td>0.0</td>\n",
       "      <td>0.0</td>\n",
       "      <td>94.366667</td>\n",
       "      <td>1.0</td>\n",
       "      <td>9.0</td>\n",
       "      <td>NaN</td>\n",
       "    </tr>\n",
       "    <tr>\n",
       "      <th>1</th>\n",
       "      <td>1</td>\n",
       "      <td>1300</td>\n",
       "      <td>70053.0</td>\n",
       "      <td>68400.0</td>\n",
       "      <td>HomeImp</td>\n",
       "      <td>Other</td>\n",
       "      <td>7.0</td>\n",
       "      <td>0.0</td>\n",
       "      <td>2.0</td>\n",
       "      <td>121.833333</td>\n",
       "      <td>0.0</td>\n",
       "      <td>14.0</td>\n",
       "      <td>NaN</td>\n",
       "    </tr>\n",
       "    <tr>\n",
       "      <th>2</th>\n",
       "      <td>1</td>\n",
       "      <td>1500</td>\n",
       "      <td>13500.0</td>\n",
       "      <td>16700.0</td>\n",
       "      <td>HomeImp</td>\n",
       "      <td>Other</td>\n",
       "      <td>4.0</td>\n",
       "      <td>0.0</td>\n",
       "      <td>0.0</td>\n",
       "      <td>149.466667</td>\n",
       "      <td>1.0</td>\n",
       "      <td>10.0</td>\n",
       "      <td>NaN</td>\n",
       "    </tr>\n",
       "    <tr>\n",
       "      <th>3</th>\n",
       "      <td>1</td>\n",
       "      <td>1500</td>\n",
       "      <td>NaN</td>\n",
       "      <td>NaN</td>\n",
       "      <td>NaN</td>\n",
       "      <td>NaN</td>\n",
       "      <td>NaN</td>\n",
       "      <td>NaN</td>\n",
       "      <td>NaN</td>\n",
       "      <td>NaN</td>\n",
       "      <td>NaN</td>\n",
       "      <td>NaN</td>\n",
       "      <td>NaN</td>\n",
       "    </tr>\n",
       "    <tr>\n",
       "      <th>4</th>\n",
       "      <td>0</td>\n",
       "      <td>1700</td>\n",
       "      <td>97800.0</td>\n",
       "      <td>112000.0</td>\n",
       "      <td>HomeImp</td>\n",
       "      <td>Office</td>\n",
       "      <td>3.0</td>\n",
       "      <td>0.0</td>\n",
       "      <td>0.0</td>\n",
       "      <td>93.333333</td>\n",
       "      <td>0.0</td>\n",
       "      <td>14.0</td>\n",
       "      <td>NaN</td>\n",
       "    </tr>\n",
       "  </tbody>\n",
       "</table>\n",
       "</div>"
      ],
      "text/plain": [
       "   target  loan  mortdue     value   reason     job   yoj  derog  delinq  \\\n",
       "0       1  1100  25860.0   39025.0  HomeImp   Other  10.5    0.0     0.0   \n",
       "1       1  1300  70053.0   68400.0  HomeImp   Other   7.0    0.0     2.0   \n",
       "2       1  1500  13500.0   16700.0  HomeImp   Other   4.0    0.0     0.0   \n",
       "3       1  1500      NaN       NaN      NaN     NaN   NaN    NaN     NaN   \n",
       "4       0  1700  97800.0  112000.0  HomeImp  Office   3.0    0.0     0.0   \n",
       "\n",
       "        clage  ninq  clno  debtinc  \n",
       "0   94.366667   1.0   9.0      NaN  \n",
       "1  121.833333   0.0  14.0      NaN  \n",
       "2  149.466667   1.0  10.0      NaN  \n",
       "3         NaN   NaN   NaN      NaN  \n",
       "4   93.333333   0.0  14.0      NaN  "
      ]
     },
     "execution_count": 6,
     "metadata": {},
     "output_type": "execute_result"
    }
   ],
   "source": [
    "data.head(5)"
   ]
  },
  {
   "cell_type": "code",
   "execution_count": 7,
   "metadata": {},
   "outputs": [
    {
     "data": {
      "text/plain": [
       "Index(['target', 'loan', 'mortdue', 'value', 'reason', 'job', 'yoj', 'derog',\n",
       "       'delinq', 'clage', 'ninq', 'clno', 'debtinc'],\n",
       "      dtype='object')"
      ]
     },
     "execution_count": 7,
     "metadata": {},
     "output_type": "execute_result"
    }
   ],
   "source": [
    "#finding the columns in the dataset\n",
    "data.columns"
   ]
  },
  {
   "cell_type": "code",
   "execution_count": 8,
   "metadata": {},
   "outputs": [
    {
     "data": {
      "text/html": [
       "<div>\n",
       "<style scoped>\n",
       "    .dataframe tbody tr th:only-of-type {\n",
       "        vertical-align: middle;\n",
       "    }\n",
       "\n",
       "    .dataframe tbody tr th {\n",
       "        vertical-align: top;\n",
       "    }\n",
       "\n",
       "    .dataframe thead th {\n",
       "        text-align: right;\n",
       "    }\n",
       "</style>\n",
       "<table border=\"1\" class=\"dataframe\">\n",
       "  <thead>\n",
       "    <tr style=\"text-align: right;\">\n",
       "      <th></th>\n",
       "      <th>target</th>\n",
       "      <th>loan</th>\n",
       "      <th>mortdue</th>\n",
       "      <th>value</th>\n",
       "      <th>yoj</th>\n",
       "      <th>derog</th>\n",
       "      <th>delinq</th>\n",
       "      <th>clage</th>\n",
       "      <th>ninq</th>\n",
       "      <th>clno</th>\n",
       "      <th>debtinc</th>\n",
       "    </tr>\n",
       "  </thead>\n",
       "  <tbody>\n",
       "    <tr>\n",
       "      <th>count</th>\n",
       "      <td>5960.000000</td>\n",
       "      <td>5960.000000</td>\n",
       "      <td>5442.000000</td>\n",
       "      <td>5848.000000</td>\n",
       "      <td>5445.000000</td>\n",
       "      <td>5252.000000</td>\n",
       "      <td>5380.000000</td>\n",
       "      <td>5652.000000</td>\n",
       "      <td>5450.000000</td>\n",
       "      <td>5738.000000</td>\n",
       "      <td>4693.000000</td>\n",
       "    </tr>\n",
       "    <tr>\n",
       "      <th>mean</th>\n",
       "      <td>0.199497</td>\n",
       "      <td>18607.969799</td>\n",
       "      <td>73760.817200</td>\n",
       "      <td>101776.048741</td>\n",
       "      <td>8.922268</td>\n",
       "      <td>0.254570</td>\n",
       "      <td>0.449442</td>\n",
       "      <td>179.766275</td>\n",
       "      <td>1.186055</td>\n",
       "      <td>21.296096</td>\n",
       "      <td>33.779915</td>\n",
       "    </tr>\n",
       "    <tr>\n",
       "      <th>std</th>\n",
       "      <td>0.399656</td>\n",
       "      <td>11207.480417</td>\n",
       "      <td>44457.609458</td>\n",
       "      <td>57385.775334</td>\n",
       "      <td>7.573982</td>\n",
       "      <td>0.846047</td>\n",
       "      <td>1.127266</td>\n",
       "      <td>85.810092</td>\n",
       "      <td>1.728675</td>\n",
       "      <td>10.138933</td>\n",
       "      <td>8.601746</td>\n",
       "    </tr>\n",
       "    <tr>\n",
       "      <th>min</th>\n",
       "      <td>0.000000</td>\n",
       "      <td>1100.000000</td>\n",
       "      <td>2063.000000</td>\n",
       "      <td>8000.000000</td>\n",
       "      <td>0.000000</td>\n",
       "      <td>0.000000</td>\n",
       "      <td>0.000000</td>\n",
       "      <td>0.000000</td>\n",
       "      <td>0.000000</td>\n",
       "      <td>0.000000</td>\n",
       "      <td>0.524499</td>\n",
       "    </tr>\n",
       "    <tr>\n",
       "      <th>25%</th>\n",
       "      <td>0.000000</td>\n",
       "      <td>11100.000000</td>\n",
       "      <td>46276.000000</td>\n",
       "      <td>66075.500000</td>\n",
       "      <td>3.000000</td>\n",
       "      <td>0.000000</td>\n",
       "      <td>0.000000</td>\n",
       "      <td>115.116702</td>\n",
       "      <td>0.000000</td>\n",
       "      <td>15.000000</td>\n",
       "      <td>29.140031</td>\n",
       "    </tr>\n",
       "    <tr>\n",
       "      <th>50%</th>\n",
       "      <td>0.000000</td>\n",
       "      <td>16300.000000</td>\n",
       "      <td>65019.000000</td>\n",
       "      <td>89235.500000</td>\n",
       "      <td>7.000000</td>\n",
       "      <td>0.000000</td>\n",
       "      <td>0.000000</td>\n",
       "      <td>173.466667</td>\n",
       "      <td>1.000000</td>\n",
       "      <td>20.000000</td>\n",
       "      <td>34.818262</td>\n",
       "    </tr>\n",
       "    <tr>\n",
       "      <th>75%</th>\n",
       "      <td>0.000000</td>\n",
       "      <td>23300.000000</td>\n",
       "      <td>91488.000000</td>\n",
       "      <td>119824.250000</td>\n",
       "      <td>13.000000</td>\n",
       "      <td>0.000000</td>\n",
       "      <td>0.000000</td>\n",
       "      <td>231.562278</td>\n",
       "      <td>2.000000</td>\n",
       "      <td>26.000000</td>\n",
       "      <td>39.003141</td>\n",
       "    </tr>\n",
       "    <tr>\n",
       "      <th>max</th>\n",
       "      <td>1.000000</td>\n",
       "      <td>89900.000000</td>\n",
       "      <td>399550.000000</td>\n",
       "      <td>855909.000000</td>\n",
       "      <td>41.000000</td>\n",
       "      <td>10.000000</td>\n",
       "      <td>15.000000</td>\n",
       "      <td>1168.233561</td>\n",
       "      <td>17.000000</td>\n",
       "      <td>71.000000</td>\n",
       "      <td>203.312149</td>\n",
       "    </tr>\n",
       "  </tbody>\n",
       "</table>\n",
       "</div>"
      ],
      "text/plain": [
       "            target          loan        mortdue          value          yoj  \\\n",
       "count  5960.000000   5960.000000    5442.000000    5848.000000  5445.000000   \n",
       "mean      0.199497  18607.969799   73760.817200  101776.048741     8.922268   \n",
       "std       0.399656  11207.480417   44457.609458   57385.775334     7.573982   \n",
       "min       0.000000   1100.000000    2063.000000    8000.000000     0.000000   \n",
       "25%       0.000000  11100.000000   46276.000000   66075.500000     3.000000   \n",
       "50%       0.000000  16300.000000   65019.000000   89235.500000     7.000000   \n",
       "75%       0.000000  23300.000000   91488.000000  119824.250000    13.000000   \n",
       "max       1.000000  89900.000000  399550.000000  855909.000000    41.000000   \n",
       "\n",
       "             derog       delinq        clage         ninq         clno  \\\n",
       "count  5252.000000  5380.000000  5652.000000  5450.000000  5738.000000   \n",
       "mean      0.254570     0.449442   179.766275     1.186055    21.296096   \n",
       "std       0.846047     1.127266    85.810092     1.728675    10.138933   \n",
       "min       0.000000     0.000000     0.000000     0.000000     0.000000   \n",
       "25%       0.000000     0.000000   115.116702     0.000000    15.000000   \n",
       "50%       0.000000     0.000000   173.466667     1.000000    20.000000   \n",
       "75%       0.000000     0.000000   231.562278     2.000000    26.000000   \n",
       "max      10.000000    15.000000  1168.233561    17.000000    71.000000   \n",
       "\n",
       "           debtinc  \n",
       "count  4693.000000  \n",
       "mean     33.779915  \n",
       "std       8.601746  \n",
       "min       0.524499  \n",
       "25%      29.140031  \n",
       "50%      34.818262  \n",
       "75%      39.003141  \n",
       "max     203.312149  "
      ]
     },
     "execution_count": 8,
     "metadata": {},
     "output_type": "execute_result"
    }
   ],
   "source": [
    "data.describe()"
   ]
  },
  {
   "cell_type": "markdown",
   "metadata": {},
   "source": [
    "## Data visualization"
   ]
  },
  {
   "cell_type": "code",
   "execution_count": 9,
   "metadata": {},
   "outputs": [
    {
     "data": {
      "text/plain": [
       "Index(['target', 'loan', 'mortdue', 'value', 'reason', 'job', 'yoj', 'derog',\n",
       "       'delinq', 'clage', 'ninq', 'clno', 'debtinc'],\n",
       "      dtype='object')"
      ]
     },
     "execution_count": 9,
     "metadata": {},
     "output_type": "execute_result"
    }
   ],
   "source": [
    "data.columns"
   ]
  },
  {
   "cell_type": "code",
   "execution_count": 10,
   "metadata": {},
   "outputs": [
    {
     "data": {
      "text/plain": [
       "<matplotlib.axes._subplots.AxesSubplot at 0x15a22d651d0>"
      ]
     },
     "execution_count": 10,
     "metadata": {},
     "output_type": "execute_result"
    },
    {
     "data": {
      "image/png": "[encoded data removed]",
      "text/plain": [
       "<Figure size 432x288 with 1 Axes>"
      ]
     },
     "metadata": {
      "needs_background": "light"
     },
     "output_type": "display_data"
    }
   ],
   "source": [
    "#visualizing the number of defaulters and those who paid \n",
    "sns.countplot(data['target'])"
   ]
  },
  {
   "cell_type": "code",
   "execution_count": 11,
   "metadata": {},
   "outputs": [
    {
     "data": {
      "text/plain": [
       "Other      2388\n",
       "ProfExe    1276\n",
       "Office      948\n",
       "Mgr         767\n",
       "Self        193\n",
       "Sales       109\n",
       "Name: job, dtype: int64"
      ]
     },
     "execution_count": 11,
     "metadata": {},
     "output_type": "execute_result"
    }
   ],
   "source": [
    "data[\"job\"].value_counts()"
   ]
  },
  {
   "cell_type": "code",
   "execution_count": 12,
   "metadata": {},
   "outputs": [
    {
     "name": "stdout",
     "output_type": "stream",
     "text": [
      "job      target\n",
      "Mgr      0          588\n",
      "         1          179\n",
      "Office   0          823\n",
      "         1          125\n",
      "Other    0         1834\n",
      "         1          554\n",
      "ProfExe  0         1064\n",
      "         1          212\n",
      "Sales    0           71\n",
      "         1           38\n",
      "Self     0          135\n",
      "         1           58\n",
      "Name: target, dtype: int64\n"
     ]
    }
   ],
   "source": [
    "#grouping the data according to total number of  defaulters per each job group and visualizing \n",
    "total=data.groupby([\"job\",'target'])[\"target\"].count()\n",
    "print(total)"
   ]
  },
  {
   "cell_type": "code",
   "execution_count": 13,
   "metadata": {},
   "outputs": [
    {
     "data": {
      "text/plain": [
       "<matplotlib.axes._subplots.AxesSubplot at 0x15a24e22780>"
      ]
     },
     "execution_count": 13,
     "metadata": {},
     "output_type": "execute_result"
    },
    {
     "data": {
      "image/png": "[encoded data removed]",
      "text/plain": [
       "<Figure size 432x288 with 1 Axes>"
      ]
     },
     "metadata": {
      "needs_background": "light"
     },
     "output_type": "display_data"
    }
   ],
   "source": [
    "total.plot.bar()"
   ]
  },
  {
   "cell_type": "code",
   "execution_count": 14,
   "metadata": {},
   "outputs": [
    {
     "data": {
      "text/plain": [
       "0    4771\n",
       "1    1189\n",
       "Name: target, dtype: int64"
      ]
     },
     "execution_count": 14,
     "metadata": {},
     "output_type": "execute_result"
    }
   ],
   "source": [
    "data['target'].value_counts()"
   ]
  },
  {
   "cell_type": "code",
   "execution_count": 15,
   "metadata": {},
   "outputs": [
    {
     "data": {
      "text/plain": [
       "DebtCon    3928\n",
       "HomeImp    1780\n",
       "Name: reason, dtype: int64"
      ]
     },
     "execution_count": 15,
     "metadata": {},
     "output_type": "execute_result"
    }
   ],
   "source": [
    "data.reason.value_counts()"
   ]
  },
  {
   "cell_type": "code",
   "execution_count": 16,
   "metadata": {},
   "outputs": [
    {
     "data": {
      "text/plain": [
       "<seaborn.axisgrid.FacetGrid at 0x15a24ecd940>"
      ]
     },
     "execution_count": 16,
     "metadata": {},
     "output_type": "execute_result"
    },
    {
     "data": {
      "image/png": "[encoded data removed]",
      "text/plain": [
       "<Figure size 432x216 with 2 Axes>"
      ]
     },
     "metadata": {
      "needs_background": "light"
     },
     "output_type": "display_data"
    }
   ],
   "source": [
    "#distribution of morgage due in both 0 and 1\n",
    "a=sns.FacetGrid(data,col=\"target\")\n",
    "a.map(plt.hist, \"mortdue\")"
   ]
  },
  {
   "cell_type": "markdown",
   "metadata": {},
   "source": [
    "## Data cleaning\n",
    "you find the Missing Data\n",
    "\n",
    "We can use seaborn to create a simple heatmap to see where we are missing data!"
   ]
  },
  {
   "cell_type": "code",
   "execution_count": 17,
   "metadata": {},
   "outputs": [
    {
     "data": {
      "text/plain": [
       "<matplotlib.axes._subplots.AxesSubplot at 0x15a25056940>"
      ]
     },
     "execution_count": 17,
     "metadata": {},
     "output_type": "execute_result"
    },
    {
     "data": {
      "image/png": "[encoded data removed]",
      "text/plain": [
       "<Figure size 720x576 with 1 Axes>"
      ]
     },
     "metadata": {
      "needs_background": "light"
     },
     "output_type": "display_data"
    }
   ],
   "source": [
    "plt.figure(figsize=(10,8))\n",
    "sns.heatmap(data.isnull(),cmap='viridis',yticklabels=False,cbar=False)"
   ]
  },
  {
   "cell_type": "markdown",
   "metadata": {},
   "source": [
    "The above heatmap shows that mortdue,value,reason,job,yoj,derog,deiling,dage,ninq and debtinc contain missing values.\n",
    "You can also isnull() function to find th total missing values in each column as shown below"
   ]
  },
  {
   "cell_type": "code",
   "execution_count": 18,
   "metadata": {},
   "outputs": [
    {
     "data": {
      "text/plain": [
       "target        0\n",
       "loan          0\n",
       "mortdue     518\n",
       "value       112\n",
       "reason      252\n",
       "job         279\n",
       "yoj         515\n",
       "derog       708\n",
       "delinq      580\n",
       "clage       308\n",
       "ninq        510\n",
       "clno        222\n",
       "debtinc    1267\n",
       "dtype: int64"
      ]
     },
     "execution_count": 18,
     "metadata": {},
     "output_type": "execute_result"
    }
   ],
   "source": [
    "data.isnull().sum()"
   ]
  },
  {
   "cell_type": "markdown",
   "metadata": {},
   "source": [
    "Next,Replace the missing values in each column. You can either replace the values with mean(in numerical variables)or mode(in categorical variables). you can also choose to drop the whole column in case if the missing variables are many"
   ]
  },
  {
   "cell_type": "code",
   "execution_count": 19,
   "metadata": {},
   "outputs": [
    {
     "name": "stdout",
     "output_type": "stream",
     "text": [
      "DebtCon    3928\n",
      "HomeImp    1780\n",
      "Name: reason, dtype: int64\n",
      "\n",
      "Other      2388\n",
      "ProfExe    1276\n",
      "Office      948\n",
      "Mgr         767\n",
      "Self        193\n",
      "Sales       109\n",
      "Name: job, dtype: int64\n"
     ]
    }
   ],
   "source": [
    "#first,find unique values in categorical columns(reason,job)\n",
    "print(data['reason'].value_counts())\n",
    "print(\"\")\n",
    "print(data['job'].value_counts())"
   ]
  },
  {
   "cell_type": "code",
   "execution_count": 20,
   "metadata": {},
   "outputs": [],
   "source": [
    "data[\"mortdue\"].fillna(value=data[\"mortdue\"].notnull().mean(),inplace=True)\n",
    "data[\"value\"].fillna(value=data[\"value\"].notnull().mean(),inplace=True)\n",
    "data[\"reason\"].fillna(value=data[\"reason\"].notnull().mode()[0],inplace=True)\n",
    "data[\"job\"].fillna(value=data[\"job\"].notnull().mode()[0],inplace=True)\n",
    "data[\"yoj\"].fillna(value=data[\"yoj\"].notnull().mean(),inplace=True)\n",
    "data[\"derog\"].fillna(value=data[\"derog\"].notnull().mean(),inplace=True)\n",
    "data[\"delinq\"].fillna(value=data[\"delinq\"].notnull().mean(),inplace=True)\n",
    "data[\"clage\"].fillna(value=data[\"clage\"].notnull().mean(),inplace=True)\n",
    "data[\"ninq\"].fillna(value=data[\"ninq\"].notnull().mean(),inplace=True)\n",
    "data[\"clno\"].fillna(value=data[\"clno\"].notnull().mean(),inplace=True)\n",
    "data[\"debtinc\"].fillna(value=data[\"debtinc\"].notnull().mean(),inplace=True)"
   ]
  },
  {
   "cell_type": "code",
   "execution_count": 21,
   "metadata": {},
   "outputs": [
    {
     "data": {
      "text/plain": [
       "target     0\n",
       "loan       0\n",
       "mortdue    0\n",
       "value      0\n",
       "reason     0\n",
       "job        0\n",
       "yoj        0\n",
       "derog      0\n",
       "delinq     0\n",
       "clage      0\n",
       "ninq       0\n",
       "clno       0\n",
       "debtinc    0\n",
       "dtype: int64"
      ]
     },
     "execution_count": 21,
     "metadata": {},
     "output_type": "execute_result"
    }
   ],
   "source": [
    "data.isnull().sum()"
   ]
  },
  {
   "cell_type": "markdown",
   "metadata": {},
   "source": [
    "Next,Find the correlation of the variables to find variables which correlate. If their correlation equal or above 0.6,you eliminate one of the variables to avoid multicolliniality."
   ]
  },
  {
   "cell_type": "code",
   "execution_count": 22,
   "metadata": {},
   "outputs": [
    {
     "data": {
      "text/html": [
       "<div>\n",
       "<style scoped>\n",
       "    .dataframe tbody tr th:only-of-type {\n",
       "        vertical-align: middle;\n",
       "    }\n",
       "\n",
       "    .dataframe tbody tr th {\n",
       "        vertical-align: top;\n",
       "    }\n",
       "\n",
       "    .dataframe thead th {\n",
       "        text-align: right;\n",
       "    }\n",
       "</style>\n",
       "<table border=\"1\" class=\"dataframe\">\n",
       "  <thead>\n",
       "    <tr style=\"text-align: right;\">\n",
       "      <th></th>\n",
       "      <th>target</th>\n",
       "      <th>loan</th>\n",
       "      <th>mortdue</th>\n",
       "      <th>value</th>\n",
       "      <th>yoj</th>\n",
       "      <th>derog</th>\n",
       "      <th>delinq</th>\n",
       "      <th>clage</th>\n",
       "      <th>ninq</th>\n",
       "      <th>clno</th>\n",
       "      <th>debtinc</th>\n",
       "    </tr>\n",
       "  </thead>\n",
       "  <tbody>\n",
       "    <tr>\n",
       "      <th>target</th>\n",
       "      <td>1.000000</td>\n",
       "      <td>-0.075099</td>\n",
       "      <td>-0.043094</td>\n",
       "      <td>-0.088416</td>\n",
       "      <td>-0.038945</td>\n",
       "      <td>0.238449</td>\n",
       "      <td>0.331110</td>\n",
       "      <td>-0.162657</td>\n",
       "      <td>0.170516</td>\n",
       "      <td>-0.010766</td>\n",
       "      <td>-0.415157</td>\n",
       "    </tr>\n",
       "    <tr>\n",
       "      <th>loan</th>\n",
       "      <td>-0.075099</td>\n",
       "      <td>1.000000</td>\n",
       "      <td>0.198999</td>\n",
       "      <td>0.320961</td>\n",
       "      <td>0.082139</td>\n",
       "      <td>-0.020986</td>\n",
       "      <td>-0.038405</td>\n",
       "      <td>0.113791</td>\n",
       "      <td>0.046219</td>\n",
       "      <td>0.104061</td>\n",
       "      <td>0.127193</td>\n",
       "    </tr>\n",
       "    <tr>\n",
       "      <th>mortdue</th>\n",
       "      <td>-0.043094</td>\n",
       "      <td>0.198999</td>\n",
       "      <td>1.000000</td>\n",
       "      <td>0.765802</td>\n",
       "      <td>-0.009398</td>\n",
       "      <td>-0.066889</td>\n",
       "      <td>-0.007306</td>\n",
       "      <td>0.145300</td>\n",
       "      <td>0.048439</td>\n",
       "      <td>0.386243</td>\n",
       "      <td>0.146103</td>\n",
       "    </tr>\n",
       "    <tr>\n",
       "      <th>value</th>\n",
       "      <td>-0.088416</td>\n",
       "      <td>0.320961</td>\n",
       "      <td>0.765802</td>\n",
       "      <td>1.000000</td>\n",
       "      <td>0.030871</td>\n",
       "      <td>-0.079362</td>\n",
       "      <td>-0.061695</td>\n",
       "      <td>0.182921</td>\n",
       "      <td>-0.003450</td>\n",
       "      <td>0.263006</td>\n",
       "      <td>0.137092</td>\n",
       "    </tr>\n",
       "    <tr>\n",
       "      <th>yoj</th>\n",
       "      <td>-0.038945</td>\n",
       "      <td>0.082139</td>\n",
       "      <td>-0.009398</td>\n",
       "      <td>0.030871</td>\n",
       "      <td>1.000000</td>\n",
       "      <td>-0.089468</td>\n",
       "      <td>0.024953</td>\n",
       "      <td>0.205021</td>\n",
       "      <td>-0.048396</td>\n",
       "      <td>0.092776</td>\n",
       "      <td>-0.015135</td>\n",
       "    </tr>\n",
       "    <tr>\n",
       "      <th>derog</th>\n",
       "      <td>0.238449</td>\n",
       "      <td>-0.020986</td>\n",
       "      <td>-0.066889</td>\n",
       "      <td>-0.079362</td>\n",
       "      <td>-0.089468</td>\n",
       "      <td>1.000000</td>\n",
       "      <td>0.240042</td>\n",
       "      <td>-0.109556</td>\n",
       "      <td>0.159416</td>\n",
       "      <td>0.019978</td>\n",
       "      <td>-0.136065</td>\n",
       "    </tr>\n",
       "    <tr>\n",
       "      <th>delinq</th>\n",
       "      <td>0.331110</td>\n",
       "      <td>-0.038405</td>\n",
       "      <td>-0.007306</td>\n",
       "      <td>-0.061695</td>\n",
       "      <td>0.024953</td>\n",
       "      <td>0.240042</td>\n",
       "      <td>1.000000</td>\n",
       "      <td>0.001765</td>\n",
       "      <td>0.064829</td>\n",
       "      <td>0.118907</td>\n",
       "      <td>-0.186153</td>\n",
       "    </tr>\n",
       "    <tr>\n",
       "      <th>clage</th>\n",
       "      <td>-0.162657</td>\n",
       "      <td>0.113791</td>\n",
       "      <td>0.145300</td>\n",
       "      <td>0.182921</td>\n",
       "      <td>0.205021</td>\n",
       "      <td>-0.109556</td>\n",
       "      <td>0.001765</td>\n",
       "      <td>1.000000</td>\n",
       "      <td>-0.095279</td>\n",
       "      <td>0.372366</td>\n",
       "      <td>0.089401</td>\n",
       "    </tr>\n",
       "    <tr>\n",
       "      <th>ninq</th>\n",
       "      <td>0.170516</td>\n",
       "      <td>0.046219</td>\n",
       "      <td>0.048439</td>\n",
       "      <td>-0.003450</td>\n",
       "      <td>-0.048396</td>\n",
       "      <td>0.159416</td>\n",
       "      <td>0.064829</td>\n",
       "      <td>-0.095279</td>\n",
       "      <td>1.000000</td>\n",
       "      <td>0.090434</td>\n",
       "      <td>-0.070990</td>\n",
       "    </tr>\n",
       "    <tr>\n",
       "      <th>clno</th>\n",
       "      <td>-0.010766</td>\n",
       "      <td>0.104061</td>\n",
       "      <td>0.386243</td>\n",
       "      <td>0.263006</td>\n",
       "      <td>0.092776</td>\n",
       "      <td>0.019978</td>\n",
       "      <td>0.118907</td>\n",
       "      <td>0.372366</td>\n",
       "      <td>0.090434</td>\n",
       "      <td>1.000000</td>\n",
       "      <td>0.088485</td>\n",
       "    </tr>\n",
       "    <tr>\n",
       "      <th>debtinc</th>\n",
       "      <td>-0.415157</td>\n",
       "      <td>0.127193</td>\n",
       "      <td>0.146103</td>\n",
       "      <td>0.137092</td>\n",
       "      <td>-0.015135</td>\n",
       "      <td>-0.136065</td>\n",
       "      <td>-0.186153</td>\n",
       "      <td>0.089401</td>\n",
       "      <td>-0.070990</td>\n",
       "      <td>0.088485</td>\n",
       "      <td>1.000000</td>\n",
       "    </tr>\n",
       "  </tbody>\n",
       "</table>\n",
       "</div>"
      ],
      "text/plain": [
       "           target      loan   mortdue     value       yoj     derog    delinq  \\\n",
       "target   1.000000 -0.075099 -0.043094 -0.088416 -0.038945  0.238449  0.331110   \n",
       "loan    -0.075099  1.000000  0.198999  0.320961  0.082139 -0.020986 -0.038405   \n",
       "mortdue -0.043094  0.198999  1.000000  0.765802 -0.009398 -0.066889 -0.007306   \n",
       "value   -0.088416  0.320961  0.765802  1.000000  0.030871 -0.079362 -0.061695   \n",
       "yoj     -0.038945  0.082139 -0.009398  0.030871  1.000000 -0.089468  0.024953   \n",
       "derog    0.238449 -0.020986 -0.066889 -0.079362 -0.089468  1.000000  0.240042   \n",
       "delinq   0.331110 -0.038405 -0.007306 -0.061695  0.024953  0.240042  1.000000   \n",
       "clage   -0.162657  0.113791  0.145300  0.182921  0.205021 -0.109556  0.001765   \n",
       "ninq     0.170516  0.046219  0.048439 -0.003450 -0.048396  0.159416  0.064829   \n",
       "clno    -0.010766  0.104061  0.386243  0.263006  0.092776  0.019978  0.118907   \n",
       "debtinc -0.415157  0.127193  0.146103  0.137092 -0.015135 -0.136065 -0.186153   \n",
       "\n",
       "            clage      ninq      clno   debtinc  \n",
       "target  -0.162657  0.170516 -0.010766 -0.415157  \n",
       "loan     0.113791  0.046219  0.104061  0.127193  \n",
       "mortdue  0.145300  0.048439  0.386243  0.146103  \n",
       "value    0.182921 -0.003450  0.263006  0.137092  \n",
       "yoj      0.205021 -0.048396  0.092776 -0.015135  \n",
       "derog   -0.109556  0.159416  0.019978 -0.136065  \n",
       "delinq   0.001765  0.064829  0.118907 -0.186153  \n",
       "clage    1.000000 -0.095279  0.372366  0.089401  \n",
       "ninq    -0.095279  1.000000  0.090434 -0.070990  \n",
       "clno     0.372366  0.090434  1.000000  0.088485  \n",
       "debtinc  0.089401 -0.070990  0.088485  1.000000  "
      ]
     },
     "execution_count": 22,
     "metadata": {},
     "output_type": "execute_result"
    }
   ],
   "source": [
    "data.corr()"
   ]
  },
  {
   "cell_type": "code",
   "execution_count": null,
   "metadata": {},
   "outputs": [],
   "source": [
    "\n"
   ]
  },
  {
   "cell_type": "code",
   "execution_count": 23,
   "metadata": {},
   "outputs": [
    {
     "data": {
      "text/plain": [
       "<matplotlib.axes._subplots.AxesSubplot at 0x15a25607dd8>"
      ]
     },
     "execution_count": 23,
     "metadata": {},
     "output_type": "execute_result"
    },
    {
     "data": {
      "image/png": "[encoded data removed]",
      "text/plain": [
       "<Figure size 720x576 with 2 Axes>"
      ]
     },
     "metadata": {
      "needs_background": "light"
     },
     "output_type": "display_data"
    }
   ],
   "source": [
    "#plotting heatmap to show correlation\n",
    "plt.figure(figsize=(10,8))\n",
    "sns.heatmap(data.corr(),annot=True,linewidths=0.5,linecolor='white',cmap='magma')"
   ]
  },
  {
   "cell_type": "code",
   "execution_count": 24,
   "metadata": {},
   "outputs": [],
   "source": [
    "#drop either mortdue or value since their corrrelation is high\n",
    "data.drop('value',axis=1,inplace=True)"
   ]
  },
  {
   "cell_type": "markdown",
   "metadata": {},
   "source": []
  },
  {
   "cell_type": "code",
   "execution_count": null,
   "metadata": {},
   "outputs": [],
   "source": []
  },
  {
   "cell_type": "markdown",
   "metadata": {},
   "source": [
    "## Converting Categorical Features \n",
    "\n",
    "Convert categorical features to dummy variables using pandas to enable the model to directly take in those features as inputs."
   ]
  },
  {
   "cell_type": "code",
   "execution_count": 25,
   "metadata": {},
   "outputs": [],
   "source": [
    "reason = pd.get_dummies(data[['reason','job']],drop_first=False)\n"
   ]
  },
  {
   "cell_type": "code",
   "execution_count": 26,
   "metadata": {},
   "outputs": [],
   "source": [
    "#join the two datasets(reason and data)\n",
    "data=pd.concat([data,reason],axis=1)"
   ]
  },
  {
   "cell_type": "code",
   "execution_count": 27,
   "metadata": {},
   "outputs": [],
   "source": [
    "#drop column reason and job\n",
    "data.drop(['reason','job'],axis=1,inplace=True)"
   ]
  },
  {
   "cell_type": "code",
   "execution_count": 28,
   "metadata": {},
   "outputs": [
    {
     "data": {
      "text/html": [
       "<div>\n",
       "<style scoped>\n",
       "    .dataframe tbody tr th:only-of-type {\n",
       "        vertical-align: middle;\n",
       "    }\n",
       "\n",
       "    .dataframe tbody tr th {\n",
       "        vertical-align: top;\n",
       "    }\n",
       "\n",
       "    .dataframe thead th {\n",
       "        text-align: right;\n",
       "    }\n",
       "</style>\n",
       "<table border=\"1\" class=\"dataframe\">\n",
       "  <thead>\n",
       "    <tr style=\"text-align: right;\">\n",
       "      <th></th>\n",
       "      <th>target</th>\n",
       "      <th>loan</th>\n",
       "      <th>mortdue</th>\n",
       "      <th>yoj</th>\n",
       "      <th>derog</th>\n",
       "      <th>delinq</th>\n",
       "      <th>clage</th>\n",
       "      <th>ninq</th>\n",
       "      <th>clno</th>\n",
       "      <th>debtinc</th>\n",
       "      <th>reason_True</th>\n",
       "      <th>reason_DebtCon</th>\n",
       "      <th>reason_HomeImp</th>\n",
       "      <th>job_True</th>\n",
       "      <th>job_Mgr</th>\n",
       "      <th>job_Office</th>\n",
       "      <th>job_Other</th>\n",
       "      <th>job_ProfExe</th>\n",
       "      <th>job_Sales</th>\n",
       "      <th>job_Self</th>\n",
       "    </tr>\n",
       "  </thead>\n",
       "  <tbody>\n",
       "    <tr>\n",
       "      <th>0</th>\n",
       "      <td>1</td>\n",
       "      <td>1100</td>\n",
       "      <td>25860.000000</td>\n",
       "      <td>10.500000</td>\n",
       "      <td>0.000000</td>\n",
       "      <td>0.000000</td>\n",
       "      <td>94.366667</td>\n",
       "      <td>1.00000</td>\n",
       "      <td>9.000000</td>\n",
       "      <td>0.787416</td>\n",
       "      <td>0</td>\n",
       "      <td>0</td>\n",
       "      <td>1</td>\n",
       "      <td>0</td>\n",
       "      <td>0</td>\n",
       "      <td>0</td>\n",
       "      <td>1</td>\n",
       "      <td>0</td>\n",
       "      <td>0</td>\n",
       "      <td>0</td>\n",
       "    </tr>\n",
       "    <tr>\n",
       "      <th>1</th>\n",
       "      <td>1</td>\n",
       "      <td>1300</td>\n",
       "      <td>70053.000000</td>\n",
       "      <td>7.000000</td>\n",
       "      <td>0.000000</td>\n",
       "      <td>2.000000</td>\n",
       "      <td>121.833333</td>\n",
       "      <td>0.00000</td>\n",
       "      <td>14.000000</td>\n",
       "      <td>0.787416</td>\n",
       "      <td>0</td>\n",
       "      <td>0</td>\n",
       "      <td>1</td>\n",
       "      <td>0</td>\n",
       "      <td>0</td>\n",
       "      <td>0</td>\n",
       "      <td>1</td>\n",
       "      <td>0</td>\n",
       "      <td>0</td>\n",
       "      <td>0</td>\n",
       "    </tr>\n",
       "    <tr>\n",
       "      <th>2</th>\n",
       "      <td>1</td>\n",
       "      <td>1500</td>\n",
       "      <td>13500.000000</td>\n",
       "      <td>4.000000</td>\n",
       "      <td>0.000000</td>\n",
       "      <td>0.000000</td>\n",
       "      <td>149.466667</td>\n",
       "      <td>1.00000</td>\n",
       "      <td>10.000000</td>\n",
       "      <td>0.787416</td>\n",
       "      <td>0</td>\n",
       "      <td>0</td>\n",
       "      <td>1</td>\n",
       "      <td>0</td>\n",
       "      <td>0</td>\n",
       "      <td>0</td>\n",
       "      <td>1</td>\n",
       "      <td>0</td>\n",
       "      <td>0</td>\n",
       "      <td>0</td>\n",
       "    </tr>\n",
       "    <tr>\n",
       "      <th>3</th>\n",
       "      <td>1</td>\n",
       "      <td>1500</td>\n",
       "      <td>0.913087</td>\n",
       "      <td>0.913591</td>\n",
       "      <td>0.881208</td>\n",
       "      <td>0.902685</td>\n",
       "      <td>0.948322</td>\n",
       "      <td>0.91443</td>\n",
       "      <td>0.962752</td>\n",
       "      <td>0.787416</td>\n",
       "      <td>1</td>\n",
       "      <td>0</td>\n",
       "      <td>0</td>\n",
       "      <td>1</td>\n",
       "      <td>0</td>\n",
       "      <td>0</td>\n",
       "      <td>0</td>\n",
       "      <td>0</td>\n",
       "      <td>0</td>\n",
       "      <td>0</td>\n",
       "    </tr>\n",
       "    <tr>\n",
       "      <th>4</th>\n",
       "      <td>0</td>\n",
       "      <td>1700</td>\n",
       "      <td>97800.000000</td>\n",
       "      <td>3.000000</td>\n",
       "      <td>0.000000</td>\n",
       "      <td>0.000000</td>\n",
       "      <td>93.333333</td>\n",
       "      <td>0.00000</td>\n",
       "      <td>14.000000</td>\n",
       "      <td>0.787416</td>\n",
       "      <td>0</td>\n",
       "      <td>0</td>\n",
       "      <td>1</td>\n",
       "      <td>0</td>\n",
       "      <td>0</td>\n",
       "      <td>1</td>\n",
       "      <td>0</td>\n",
       "      <td>0</td>\n",
       "      <td>0</td>\n",
       "      <td>0</td>\n",
       "    </tr>\n",
       "  </tbody>\n",
       "</table>\n",
       "</div>"
      ],
      "text/plain": [
       "   target  loan       mortdue        yoj     derog    delinq       clage  \\\n",
       "0       1  1100  25860.000000  10.500000  0.000000  0.000000   94.366667   \n",
       "1       1  1300  70053.000000   7.000000  0.000000  2.000000  121.833333   \n",
       "2       1  1500  13500.000000   4.000000  0.000000  0.000000  149.466667   \n",
       "3       1  1500      0.913087   0.913591  0.881208  0.902685    0.948322   \n",
       "4       0  1700  97800.000000   3.000000  0.000000  0.000000   93.333333   \n",
       "\n",
       "      ninq       clno   debtinc  reason_True  reason_DebtCon  reason_HomeImp  \\\n",
       "0  1.00000   9.000000  0.787416            0               0               1   \n",
       "1  0.00000  14.000000  0.787416            0               0               1   \n",
       "2  1.00000  10.000000  0.787416            0               0               1   \n",
       "3  0.91443   0.962752  0.787416            1               0               0   \n",
       "4  0.00000  14.000000  0.787416            0               0               1   \n",
       "\n",
       "   job_True  job_Mgr  job_Office  job_Other  job_ProfExe  job_Sales  job_Self  \n",
       "0         0        0           0          1            0          0         0  \n",
       "1         0        0           0          1            0          0         0  \n",
       "2         0        0           0          1            0          0         0  \n",
       "3         1        0           0          0            0          0         0  \n",
       "4         0        0           1          0            0          0         0  "
      ]
     },
     "execution_count": 28,
     "metadata": {},
     "output_type": "execute_result"
    }
   ],
   "source": [
    "data.head(5)"
   ]
  },
  {
   "cell_type": "markdown",
   "metadata": {},
   "source": [
    "# Building a Logistic Regression model\n",
    "\n",
    "Lstart by splitting  data into features and target and then to  a training set and test set.\n",
    "\n",
    "## Train Test Split"
   ]
  },
  {
   "cell_type": "code",
   "execution_count": 29,
   "metadata": {},
   "outputs": [],
   "source": [
    "#splitting data into features(x) and target(y)\n",
    "x=data.drop(\"target\",axis=1)\n",
    "y=data['target']"
   ]
  },
  {
   "cell_type": "markdown",
   "metadata": {},
   "source": [
    "But first standardize the data to improve the results"
   ]
  },
  {
   "cell_type": "code",
   "execution_count": 30,
   "metadata": {},
   "outputs": [
    {
     "name": "stderr",
     "output_type": "stream",
     "text": [
      "C:\\Users\\user\\Anaconda3\\lib\\site-packages\\sklearn\\preprocessing\\data.py:645: DataConversionWarning: Data with input dtype uint8, int64, float64 were all converted to float64 by StandardScaler.\n",
      "  return self.partial_fit(X, y)\n",
      "C:\\Users\\user\\Anaconda3\\lib\\site-packages\\ipykernel_launcher.py:5: DataConversionWarning: Data with input dtype uint8, int64, float64 were all converted to float64 by StandardScaler.\n",
      "  \"\"\"\n"
     ]
    }
   ],
   "source": [
    "#standardizing the data\n",
    "from sklearn.preprocessing import StandardScaler\n",
    "scaler=StandardScaler()\n",
    "scaled=scaler.fit(x)\n",
    "x_scaled=scaled.transform(x)"
   ]
  },
  {
   "cell_type": "code",
   "execution_count": 31,
   "metadata": {},
   "outputs": [
    {
     "data": {
      "text/html": [
       "<div>\n",
       "<style scoped>\n",
       "    .dataframe tbody tr th:only-of-type {\n",
       "        vertical-align: middle;\n",
       "    }\n",
       "\n",
       "    .dataframe tbody tr th {\n",
       "        vertical-align: top;\n",
       "    }\n",
       "\n",
       "    .dataframe thead th {\n",
       "        text-align: right;\n",
       "    }\n",
       "</style>\n",
       "<table border=\"1\" class=\"dataframe\">\n",
       "  <thead>\n",
       "    <tr style=\"text-align: right;\">\n",
       "      <th></th>\n",
       "      <th>loan</th>\n",
       "      <th>mortdue</th>\n",
       "      <th>yoj</th>\n",
       "      <th>derog</th>\n",
       "      <th>delinq</th>\n",
       "      <th>clage</th>\n",
       "      <th>ninq</th>\n",
       "      <th>clno</th>\n",
       "      <th>debtinc</th>\n",
       "      <th>reason_True</th>\n",
       "      <th>reason_DebtCon</th>\n",
       "      <th>reason_HomeImp</th>\n",
       "      <th>job_True</th>\n",
       "      <th>job_Mgr</th>\n",
       "      <th>job_Office</th>\n",
       "      <th>job_Other</th>\n",
       "      <th>job_ProfExe</th>\n",
       "      <th>job_Sales</th>\n",
       "      <th>job_Self</th>\n",
       "    </tr>\n",
       "  </thead>\n",
       "  <tbody>\n",
       "    <tr>\n",
       "      <th>0</th>\n",
       "      <td>-1.562299</td>\n",
       "      <td>-0.877399</td>\n",
       "      <td>0.299426</td>\n",
       "      <td>-0.401425</td>\n",
       "      <td>-0.457285</td>\n",
       "      <td>-0.823702</td>\n",
       "      <td>-0.098396</td>\n",
       "      <td>-1.081753</td>\n",
       "      <td>-1.675337</td>\n",
       "      <td>-0.210116</td>\n",
       "      <td>-1.390349</td>\n",
       "      <td>1.532421</td>\n",
       "      <td>-0.221610</td>\n",
       "      <td>-0.384316</td>\n",
       "      <td>-0.434909</td>\n",
       "      <td>1.223034</td>\n",
       "      <td>-0.521936</td>\n",
       "      <td>-0.136489</td>\n",
       "      <td>-0.182938</td>\n",
       "    </tr>\n",
       "    <tr>\n",
       "      <th>1</th>\n",
       "      <td>-1.544453</td>\n",
       "      <td>0.057158</td>\n",
       "      <td>-0.162293</td>\n",
       "      <td>-0.401425</td>\n",
       "      <td>1.395759</td>\n",
       "      <td>-0.526634</td>\n",
       "      <td>-0.702753</td>\n",
       "      <td>-0.613003</td>\n",
       "      <td>-1.675337</td>\n",
       "      <td>-0.210116</td>\n",
       "      <td>-1.390349</td>\n",
       "      <td>1.532421</td>\n",
       "      <td>-0.221610</td>\n",
       "      <td>-0.384316</td>\n",
       "      <td>-0.434909</td>\n",
       "      <td>1.223034</td>\n",
       "      <td>-0.521936</td>\n",
       "      <td>-0.136489</td>\n",
       "      <td>-0.182938</td>\n",
       "    </tr>\n",
       "    <tr>\n",
       "      <th>2</th>\n",
       "      <td>-1.526606</td>\n",
       "      <td>-1.138779</td>\n",
       "      <td>-0.558052</td>\n",
       "      <td>-0.401425</td>\n",
       "      <td>-0.457285</td>\n",
       "      <td>-0.227762</td>\n",
       "      <td>-0.098396</td>\n",
       "      <td>-0.988003</td>\n",
       "      <td>-1.675337</td>\n",
       "      <td>-0.210116</td>\n",
       "      <td>-1.390349</td>\n",
       "      <td>1.532421</td>\n",
       "      <td>-0.221610</td>\n",
       "      <td>-0.384316</td>\n",
       "      <td>-0.434909</td>\n",
       "      <td>1.223034</td>\n",
       "      <td>-0.521936</td>\n",
       "      <td>-0.136489</td>\n",
       "      <td>-0.182938</td>\n",
       "    </tr>\n",
       "    <tr>\n",
       "      <th>3</th>\n",
       "      <td>-1.526606</td>\n",
       "      <td>-1.424246</td>\n",
       "      <td>-0.965211</td>\n",
       "      <td>0.673739</td>\n",
       "      <td>0.379072</td>\n",
       "      <td>-1.834079</td>\n",
       "      <td>-0.150111</td>\n",
       "      <td>-1.835243</td>\n",
       "      <td>-1.675337</td>\n",
       "      <td>4.759285</td>\n",
       "      <td>-1.390349</td>\n",
       "      <td>-0.652562</td>\n",
       "      <td>4.512428</td>\n",
       "      <td>-0.384316</td>\n",
       "      <td>-0.434909</td>\n",
       "      <td>-0.817639</td>\n",
       "      <td>-0.521936</td>\n",
       "      <td>-0.136489</td>\n",
       "      <td>-0.182938</td>\n",
       "    </tr>\n",
       "    <tr>\n",
       "      <th>4</th>\n",
       "      <td>-1.508759</td>\n",
       "      <td>0.643929</td>\n",
       "      <td>-0.689972</td>\n",
       "      <td>-0.401425</td>\n",
       "      <td>-0.457285</td>\n",
       "      <td>-0.834879</td>\n",
       "      <td>-0.702753</td>\n",
       "      <td>-0.613003</td>\n",
       "      <td>-1.675337</td>\n",
       "      <td>-0.210116</td>\n",
       "      <td>-1.390349</td>\n",
       "      <td>1.532421</td>\n",
       "      <td>-0.221610</td>\n",
       "      <td>-0.384316</td>\n",
       "      <td>2.299330</td>\n",
       "      <td>-0.817639</td>\n",
       "      <td>-0.521936</td>\n",
       "      <td>-0.136489</td>\n",
       "      <td>-0.182938</td>\n",
       "    </tr>\n",
       "  </tbody>\n",
       "</table>\n",
       "</div>"
      ],
      "text/plain": [
       "       loan   mortdue       yoj     derog    delinq     clage      ninq  \\\n",
       "0 -1.562299 -0.877399  0.299426 -0.401425 -0.457285 -0.823702 -0.098396   \n",
       "1 -1.544453  0.057158 -0.162293 -0.401425  1.395759 -0.526634 -0.702753   \n",
       "2 -1.526606 -1.138779 -0.558052 -0.401425 -0.457285 -0.227762 -0.098396   \n",
       "3 -1.526606 -1.424246 -0.965211  0.673739  0.379072 -1.834079 -0.150111   \n",
       "4 -1.508759  0.643929 -0.689972 -0.401425 -0.457285 -0.834879 -0.702753   \n",
       "\n",
       "       clno   debtinc  reason_True  reason_DebtCon  reason_HomeImp  job_True  \\\n",
       "0 -1.081753 -1.675337    -0.210116       -1.390349        1.532421 -0.221610   \n",
       "1 -0.613003 -1.675337    -0.210116       -1.390349        1.532421 -0.221610   \n",
       "2 -0.988003 -1.675337    -0.210116       -1.390349        1.532421 -0.221610   \n",
       "3 -1.835243 -1.675337     4.759285       -1.390349       -0.652562  4.512428   \n",
       "4 -0.613003 -1.675337    -0.210116       -1.390349        1.532421 -0.221610   \n",
       "\n",
       "    job_Mgr  job_Office  job_Other  job_ProfExe  job_Sales  job_Self  \n",
       "0 -0.384316   -0.434909   1.223034    -0.521936  -0.136489 -0.182938  \n",
       "1 -0.384316   -0.434909   1.223034    -0.521936  -0.136489 -0.182938  \n",
       "2 -0.384316   -0.434909   1.223034    -0.521936  -0.136489 -0.182938  \n",
       "3 -0.384316   -0.434909  -0.817639    -0.521936  -0.136489 -0.182938  \n",
       "4 -0.384316    2.299330  -0.817639    -0.521936  -0.136489 -0.182938  "
      ]
     },
     "execution_count": 31,
     "metadata": {},
     "output_type": "execute_result"
    }
   ],
   "source": [
    "x_scaled=pd.DataFrame(x_scaled,columns=x.columns)\n",
    "x_scaled.head()"
   ]
  },
  {
   "cell_type": "code",
   "execution_count": 32,
   "metadata": {},
   "outputs": [],
   "source": [
    "from sklearn.model_selection import train_test_split"
   ]
  },
  {
   "cell_type": "code",
   "execution_count": 33,
   "metadata": {},
   "outputs": [],
   "source": [
    "X_train, X_test, y_train, y_test = train_test_split(x_scaled,y, test_size=0.30, random_state=100)"
   ]
  },
  {
   "cell_type": "code",
   "execution_count": 34,
   "metadata": {},
   "outputs": [
    {
     "data": {
      "text/plain": [
       "LogisticRegression(C=1.0, class_weight=None, dual=False, fit_intercept=True,\n",
       "          intercept_scaling=1, max_iter=100, multi_class='warn',\n",
       "          n_jobs=None, penalty='l2', random_state=None, solver='warn',\n",
       "          tol=0.0001, verbose=0, warm_start=False)"
      ]
     },
     "execution_count": 34,
     "metadata": {},
     "output_type": "execute_result"
    }
   ],
   "source": [
    "from sklearn.linear_model import LogisticRegression\n",
    "model = LogisticRegression()\n",
    "model.fit(X_train,y_train)\n"
   ]
  },
  {
   "cell_type": "code",
   "execution_count": 35,
   "metadata": {},
   "outputs": [],
   "source": [
    "pred=model.predict(X_test)"
   ]
  },
  {
   "cell_type": "code",
   "execution_count": 36,
   "metadata": {},
   "outputs": [
    {
     "data": {
      "text/plain": [
       "(1788,)"
      ]
     },
     "execution_count": 36,
     "metadata": {},
     "output_type": "execute_result"
    }
   ],
   "source": [
    "pred.shape"
   ]
  },
  {
   "cell_type": "code",
   "execution_count": 37,
   "metadata": {},
   "outputs": [
    {
     "name": "stdout",
     "output_type": "stream",
     "text": [
      "              precision    recall  f1-score   support\n",
      "\n",
      "           0       0.89      0.97      0.93      1438\n",
      "           1       0.82      0.51      0.63       350\n",
      "\n",
      "   micro avg       0.88      0.88      0.88      1788\n",
      "   macro avg       0.85      0.74      0.78      1788\n",
      "weighted avg       0.88      0.88      0.87      1788\n",
      "\n",
      "\n",
      "The confusion matrix:\n",
      " [[1398   40]\n",
      " [ 170  180]]\n"
     ]
    }
   ],
   "source": [
    "from sklearn.metrics import classification_report,confusion_matrix\n",
    "print(classification_report(y_test,pred))\n",
    "print(\"\")\n",
    "print(\"The confusion matrix:\\n\",confusion_matrix(y_test,pred))"
   ]
  },
  {
   "cell_type": "markdown",
   "metadata": {},
   "source": [
    "# Testing the quality of  model using AUC and ROC curve\n",
    "\n",
    "* Area Under Curve: like the AUC, summarizes the integral or an approximation of the area under the precision-recall curve.\n"
   ]
  },
  {
   "cell_type": "code",
   "execution_count": 38,
   "metadata": {},
   "outputs": [],
   "source": [
    "from sklearn.metrics import roc_curve  \n",
    "from sklearn.metrics import roc_auc_score  "
   ]
  },
  {
   "cell_type": "code",
   "execution_count": 39,
   "metadata": {},
   "outputs": [
    {
     "name": "stdout",
     "output_type": "stream",
     "text": [
      "AUC: 0.74\n"
     ]
    }
   ],
   "source": [
    "auc = roc_auc_score(y_test, pred)  \n",
    "print('AUC: %.2f' % auc) "
   ]
  },
  {
   "cell_type": "code",
   "execution_count": 40,
   "metadata": {},
   "outputs": [],
   "source": [
    "fpr, tpr, thresholds = roc_curve(y_test, pred)  "
   ]
  },
  {
   "cell_type": "code",
   "execution_count": 41,
   "metadata": {},
   "outputs": [
    {
     "data": {
      "image/png": "[encoded data removed]",
      "text/plain": [
       "<Figure size 432x288 with 1 Axes>"
      ]
     },
     "metadata": {
      "needs_background": "light"
     },
     "output_type": "display_data"
    }
   ],
   "source": [
    "plt.plot(fpr, tpr, color='orange', label='ROC')\n",
    "plt.plot([0, 1], [0, 1], color='darkblue', linestyle='--')\n",
    "plt.xlabel('False Positive Rate')\n",
    "plt.ylabel('True Positive Rate')\n",
    "plt.title('ROC-Curve')\n",
    "plt.legend()\n",
    "plt.show()"
   ]
  },
  {
   "cell_type": "code",
   "execution_count": null,
   "metadata": {},
   "outputs": [],
   "source": []
  }
 ],
 "metadata": {
  "kernelspec": {
   "display_name": "Python 3",
   "language": "python",
   "name": "python3"
  },
  "language_info": {
   "codemirror_mode": {
    "name": "ipython",
    "version": 3
   },
   "file_extension": ".py",
   "mimetype": "text/x-python",
   "name": "python",
   "nbconvert_exporter": "python",
   "pygments_lexer": "ipython3",
   "version": "3.6.8"
  }
 },
 "nbformat": 4,
 "nbformat_minor": 2
}
